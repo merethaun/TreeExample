{
 "cells": [
  {
   "attachments": {},
   "cell_type": "markdown",
   "metadata": {},
   "source": [
    "# Parsing Randomness\n",
    "This is an example showing the principles of \"Free Generators\", a data structure both interpretable as:\n",
    "- A Generator\n",
    "- A Parser\n",
    "\n",
    "First, like in the paper [TODO], the \"original\" Parser and Generator will be shown. Next, they will both be build using the introduced data structure `FreeGen`.\n",
    "\n",
    "The utilised example are Binary Integer trees, first introduced here:\n",
    "\n",
    "## Binary Integer trees\n",
    "The trees will have the following elements:\n",
    "- `N` stands for a node\n",
    "  - A Node has 2 children (other tree)\n",
    "  - and an Integer value assigned (`0..9`)\n",
    "- `L` stands for leaf\n",
    "\n",
    "An example could look like this:\n",
    "```haskell\n",
    "N: 2 \n",
    "|- L\n",
    "`- N: 1\n",
    "   |- N: 6 -> L L\n",
    "   `- L\n",
    "```\n",
    "\n",
    "A **Generator** creates such a data structure at random. A **Parser** gets some String input (for the shown example: `N 2 L N 1 N 6 L L L`) and creates the according instance of the data structure.\n"
   ]
  },
  {
   "cell_type": "code",
   "execution_count": 3,
   "metadata": {},
   "outputs": [],
   "source": [
    ":reload\n",
    ":load ./Definitions/Tree.hs\n",
    "\n",
    "import Definitions.Tree"
   ]
  },
  {
   "attachments": {},
   "cell_type": "markdown",
   "metadata": {},
   "source": [
    "## Implementation of original Generator and Parser\n",
    "To show the analogy of the structure in Generators and Parsers, this section will start with the original implementation of both for creating (either making or parsing) a Binary Boolean Tree.\n",
    "\n",
    "Both the utilised Generator and Parser are already existing implementations from other libraries."
   ]
  },
  {
   "cell_type": "code",
   "execution_count": 4,
   "metadata": {
    "slideshow": {
     "slide_type": "slide"
    }
   },
   "outputs": [
    {
     "data": {
      "text/plain": [
       "\n",
       "N: 3\n",
       "|- N: 1\n",
       "|  |- L\n",
       "|  `- N: 4\n",
       "|     |- N: 0 -> L L\n",
       "|     `- N: 9 -> L L\n",
       "`- N: 6\n",
       "   |- N: 0\n",
       "   |  |- N: 7 -> L L\n",
       "   |  `- L\n",
       "   `- L"
      ]
     },
     "metadata": {},
     "output_type": "display_data"
    }
   ],
   "source": [
    "import Test.QuickCheck (Gen)\n",
    "import qualified Test.QuickCheck.Gen as Gen\n",
    "\n",
    "generateTree :: Int -> Gen Tree\n",
    "generateTree 0 = return Leaf\n",
    "generateTree h = do\n",
    "  c <- Gen.frequency [(1, return 'L'), (3, return 'N')]\n",
    "  case c of\n",
    "    'L' -> return Leaf\n",
    "    'N' -> do\n",
    "      x <- generateInt\n",
    "      l <- generateTree (h-1)\n",
    "      r <- generateTree (h-1)\n",
    "      return (Node x l r)\n",
    "\n",
    "generateInt = Gen.oneof [ return x | x<-[0..9] ]\n",
    "\n",
    "Gen.generate (generateTree 4)"
   ]
  },
  {
   "cell_type": "code",
   "execution_count": 5,
   "metadata": {},
   "outputs": [
    {
     "data": {
      "text/plain": [
       "Right \n",
       "N: 2\n",
       "|- L\n",
       "`- N: 1\n",
       "   |- N: 6 -> L L\n",
       "   `- L"
      ]
     },
     "metadata": {},
     "output_type": "display_data"
    }
   ],
   "source": [
    "import Text.Parsec.String (Parser)\n",
    "import Text.Parsec\n",
    "import Data.Char\n",
    "\n",
    "parseTree :: Int -> Parser Tree\n",
    "parseTree 0 = return Leaf\n",
    "parseTree h = do\n",
    "  c <- oneOf \"LN\"\n",
    "  case c of\n",
    "    'L' -> return Leaf\n",
    "    'N' -> do\n",
    "      x <- parseInt\n",
    "      l <- parseTree (h-1)\n",
    "      r <- parseTree (h-1)\n",
    "      return (Node x l r)\n",
    "\n",
    "parseInt = digitToInt <$> digit\n",
    "\n",
    "parse (parseTree 5) \"\" \"N2LN1N6LLL\""
   ]
  },
  {
   "attachments": {},
   "cell_type": "markdown",
   "metadata": {},
   "source": [
    "## Implementation of Free Generator\n",
    "As a first step, the general Free Generator for the Tree exampale will be defined. \n",
    "\n",
    "Important to notice: the resulting output `FreeGen Tree` is simply an abstract data structure. Without the according interpretation, it is neither a generator nor a parser. Still, the structure has a remarkable resemblence with both the definition to get a `Gen Tree` and a `Parser Tree`."
   ]
  },
  {
   "attachments": {},
   "cell_type": "markdown",
   "metadata": {},
   "source": []
  },
  {
   "cell_type": "code",
   "execution_count": 15,
   "metadata": {},
   "outputs": [],
   "source": [
    ":reload\n",
    ":load ./Definitions/FreeGen.hs\n",
    "\n",
    "import Definitions.FreeGen"
   ]
  },
  {
   "cell_type": "code",
   "execution_count": 16,
   "metadata": {},
   "outputs": [
    {
     "data": {
      "text/html": [
       "<style>/* Styles used for the Hoogle display in the pager */\n",
       ".hoogle-doc {\n",
       "display: block;\n",
       "padding-bottom: 1.3em;\n",
       "padding-left: 0.4em;\n",
       "}\n",
       ".hoogle-code {\n",
       "display: block;\n",
       "font-family: monospace;\n",
       "white-space: pre;\n",
       "}\n",
       ".hoogle-text {\n",
       "display: block;\n",
       "}\n",
       ".hoogle-name {\n",
       "color: green;\n",
       "font-weight: bold;\n",
       "}\n",
       ".hoogle-head {\n",
       "font-weight: bold;\n",
       "}\n",
       ".hoogle-sub {\n",
       "display: block;\n",
       "margin-left: 0.4em;\n",
       "}\n",
       ".hoogle-package {\n",
       "font-weight: bold;\n",
       "font-style: italic;\n",
       "}\n",
       ".hoogle-module {\n",
       "font-weight: bold;\n",
       "}\n",
       ".hoogle-class {\n",
       "font-weight: bold;\n",
       "}\n",
       ".get-type {\n",
       "color: green;\n",
       "font-weight: bold;\n",
       "font-family: monospace;\n",
       "display: block;\n",
       "white-space: pre-wrap;\n",
       "}\n",
       ".show-type {\n",
       "color: green;\n",
       "font-weight: bold;\n",
       "font-family: monospace;\n",
       "margin-left: 1em;\n",
       "}\n",
       ".mono {\n",
       "font-family: monospace;\n",
       "display: block;\n",
       "}\n",
       ".err-msg {\n",
       "color: red;\n",
       "font-style: italic;\n",
       "font-family: monospace;\n",
       "white-space: pre;\n",
       "display: block;\n",
       "}\n",
       "#unshowable {\n",
       "color: red;\n",
       "font-weight: bold;\n",
       "}\n",
       ".err-msg.in.collapse {\n",
       "padding-top: 0.7em;\n",
       "}\n",
       ".highlight-code {\n",
       "white-space: pre;\n",
       "font-family: monospace;\n",
       "}\n",
       ".suggestion-warning { \n",
       "font-weight: bold;\n",
       "color: rgb(200, 130, 0);\n",
       "}\n",
       ".suggestion-error { \n",
       "font-weight: bold;\n",
       "color: red;\n",
       "}\n",
       ".suggestion-name {\n",
       "font-weight: bold;\n",
       "}\n",
       "</style><div class=\"suggestion-name\" style=\"clear:both;\">Use lambda-case</div><div class=\"suggestion-row\" style=\"float: left;\"><div class=\"suggestion-warning\">Found:</div><div class=\"highlight-code\" id=\"haskell\">\\ c\n",
       "  -> case c of\n",
       "       'L' -> Return Leaf\n",
       "       'N'\n",
       "         -> Bind\n",
       "              freeGenInt\n",
       "              (\\ x\n",
       "                 -> Bind\n",
       "                      (freeGenTree (h - 1))\n",
       "                      (\\ l -> Bind (freeGenTree (h - 1)) (\\ r -> Return (Node x l r))))</div></div><div class=\"suggestion-row\" style=\"float: left;\"><div class=\"suggestion-warning\">Why Not:</div><div class=\"highlight-code\" id=\"haskell\">\\case\n",
       "  'L' -> Return Leaf\n",
       "  'N'\n",
       "    -> Bind\n",
       "         freeGenInt\n",
       "         (\\ x\n",
       "            -> Bind\n",
       "                 (freeGenTree (h - 1))\n",
       "                 (\\ l -> Bind (freeGenTree (h - 1)) (\\ r -> Return (Node x l r))))</div></div><div class=\"suggestion-name\" style=\"clear:both;\">Avoid lambda</div><div class=\"suggestion-row\" style=\"float: left;\"><div class=\"suggestion-warning\">Found:</div><div class=\"highlight-code\" id=\"haskell\">\\ r -> Return (Node x l r)</div></div><div class=\"suggestion-row\" style=\"float: left;\"><div class=\"suggestion-warning\">Why Not:</div><div class=\"highlight-code\" id=\"haskell\">Return . Node x l</div></div>"
      ],
      "text/plain": [
       "Line 5: Use lambda-case\n",
       "Found:\n",
       "\\ c\n",
       "  -> case c of\n",
       "       'L' -> Return Leaf\n",
       "       'N'\n",
       "         -> Bind\n",
       "              freeGenInt\n",
       "              (\\ x\n",
       "                 -> Bind\n",
       "                      (freeGenTree (h - 1))\n",
       "                      (\\ l -> Bind (freeGenTree (h - 1)) (\\ r -> Return (Node x l r))))\n",
       "Why not:\n",
       "\\case\n",
       "  'L' -> Return Leaf\n",
       "  'N'\n",
       "    -> Bind\n",
       "         freeGenInt\n",
       "         (\\ x\n",
       "            -> Bind\n",
       "                 (freeGenTree (h - 1))\n",
       "                 (\\ l -> Bind (freeGenTree (h - 1)) (\\ r -> Return (Node x l r))))Line 10: Avoid lambda\n",
       "Found:\n",
       "\\ r -> Return (Node x l r)\n",
       "Why not:\n",
       "Return . Node x l"
      ]
     },
     "metadata": {},
     "output_type": "display_data"
    }
   ],
   "source": [
    "freeGenTree :: Int -> FreeGen Tree\n",
    "freeGenTree 0 = Return Leaf\n",
    "freeGenTree h = Bind\n",
    "  (Pick [(1, 'L', Return 'L'), (3, 'N', Return 'N')])\n",
    "  (\\c -> case c of\n",
    "    'L' -> Return Leaf\n",
    "    'N' -> Bind\n",
    "      freeGenInt (\\x -> Bind\n",
    "      (freeGenTree (h-1)) (\\l -> Bind\n",
    "      (freeGenTree (h-1)) (\\r ->\n",
    "      Return (Node x l r)))))\n",
    "\n",
    "freeGenInt = Pick [(1, intToDigit x, Return x) | x<-[0..9]]\n",
    "\n",
    "-- Node about the output: the warnings can be ignored. \n",
    "-- The Code is written in the given way, to show the resemblance to the other definitions."
   ]
  },
  {
   "attachments": {},
   "cell_type": "markdown",
   "metadata": {},
   "source": [
    "## Interpretations for FreeGen\n",
    "\n",
    "Now follows the interesting part about the created `FreeGen Tree`: the different interpretations. The results should be\n",
    "- a Generator (`Gen Tree`)\n",
    "- a Parser (`Parser Tree`) and also a fitting Randomness interpretation creating a `Gen String`"
   ]
  },
  {
   "cell_type": "code",
   "execution_count": 40,
   "metadata": {},
   "outputs": [
    {
     "data": {
      "text/plain": [
       "\n",
       "N: 2\n",
       "|- N: 4\n",
       "|  |- L\n",
       "|  `- N: 4\n",
       "|     |- N: 9 -> L L\n",
       "|     `- N: 5 -> L L\n",
       "`- N: 5\n",
       "   |- L\n",
       "   `- N: 3\n",
       "      |- L\n",
       "      `- N: 1 -> L L"
      ]
     },
     "metadata": {},
     "output_type": "display_data"
    }
   ],
   "source": [
    "Gen.generate (interpretAsG (freeGenTree 4))"
   ]
  }
 ],
 "metadata": {
  "kernelspec": {
   "display_name": "Haskell",
   "language": "haskell",
   "name": "haskell"
  },
  "language_info": {
   "codemirror_mode": "ihaskell",
   "file_extension": ".hs",
   "mimetype": "text/x-haskell",
   "name": "haskell",
   "pygments_lexer": "Haskell",
   "version": "9.2.7"
  },
  "orig_nbformat": 4
 },
 "nbformat": 4,
 "nbformat_minor": 2
}
