{
 "cells": [
  {
   "attachments": {},
   "cell_type": "markdown",
   "metadata": {},
   "source": [
    "# Parsing Randomness\n",
    "This is an example showing the principles of \"Free Generators\", a data structure both interpretable as:\n",
    "- A Generator\n",
    "- A Parser\n",
    "\n",
    "First, like in the paper [TODO], the \"original\" Parser and Generator will be shown. Next, they will both be build using the introduced data structure `FreeGen`.\n",
    "\n",
    "The utilised example are Binary Digit trees, first introduced here:\n",
    "\n",
    "## Binary Digit trees\n",
    "The trees will have the following elements:\n",
    "- `N` stands for a node\n",
    "  - A Node has 2 children (other tree)\n",
    "  - and a Digit assigned (`0..9`)\n",
    "- `L` stands for leaf\n",
    "\n",
    "An example could look like this:\n",
    "```haskell\n",
    "N: 2 \n",
    "|- L\n",
    "`- N: 1\n",
    "   |- N: 6 -> L L\n",
    "   `- L\n",
    "```\n",
    "\n",
    "A **Generator** creates such a data structure at random. A **Parser** gets some String input (for the shown example: `N 2 L N 1 N 6 L L L`) and creates the according instance of the data structure.\n"
   ]
  },
  {
   "cell_type": "code",
   "execution_count": 88,
   "metadata": {},
   "outputs": [],
   "source": [
    ":reload\n",
    ":load ./Definitions/Tree.hs\n",
    "\n",
    "import Definitions.Tree"
   ]
  },
  {
   "attachments": {},
   "cell_type": "markdown",
   "metadata": {},
   "source": [
    "## Implementation of original Generator and Parser\n",
    "To show the analogy of the structure in Generators and Parsers, this section will start with the original implementation of both for creating (either making or parsing) a Binary Digit Tree.\n",
    "\n",
    "Both the utilised Generator and Parser are already existing implementations from other libraries."
   ]
  },
  {
   "cell_type": "code",
   "execution_count": 89,
   "metadata": {
    "slideshow": {
     "slide_type": "slide"
    }
   },
   "outputs": [
    {
     "data": {
      "text/plain": [
       "\n",
       "L"
      ]
     },
     "metadata": {},
     "output_type": "display_data"
    }
   ],
   "source": [
    "import Test.QuickCheck (Gen)\n",
    "import qualified Test.QuickCheck.Gen as Gen\n",
    "\n",
    "generateTree :: Int -> Gen Tree\n",
    "generateTree 0 = return Leaf\n",
    "generateTree h = do\n",
    "  c <- Gen.frequency [(1, return 'L'), (3, return 'N')]\n",
    "  case c of\n",
    "    'L' -> return Leaf\n",
    "    'N' -> do\n",
    "      x <- generateInt\n",
    "      l <- generateTree (h-1)\n",
    "      r <- generateTree (h-1)\n",
    "      return (Node x l r)\n",
    "\n",
    "generateInt = Gen.oneof [ return x | x<-[0..9] ]\n",
    "\n",
    "Gen.generate (generateTree 4)"
   ]
  },
  {
   "cell_type": "code",
   "execution_count": 90,
   "metadata": {},
   "outputs": [
    {
     "data": {
      "text/plain": [
       "Right \n",
       "N: 2\n",
       "|- L\n",
       "`- N: 1\n",
       "   |- N: 6 -> L L\n",
       "   `- L"
      ]
     },
     "metadata": {},
     "output_type": "display_data"
    }
   ],
   "source": [
    "import Text.Parsec.String (Parser)\n",
    "import Text.Parsec\n",
    "import Data.Char\n",
    "\n",
    "parseTree :: Int -> Parser Tree\n",
    "parseTree 0 = return Leaf\n",
    "parseTree h = do\n",
    "  c <- oneOf \"LN\"\n",
    "  case c of\n",
    "    'L' -> return Leaf\n",
    "    'N' -> do\n",
    "      x <- parseInt\n",
    "      l <- parseTree (h-1)\n",
    "      r <- parseTree (h-1)\n",
    "      return (Node x l r)\n",
    "\n",
    "parseInt = digitToInt <$> digit\n",
    "\n",
    "parse (parseTree 5) \"\" \"N2LN1N6LLL\""
   ]
  },
  {
   "attachments": {},
   "cell_type": "markdown",
   "metadata": {},
   "source": [
    "## Implementation of Free Generator\n",
    "As a first step, the general Free Generator for the Tree exampale will be defined. \n",
    "\n",
    "Important to notice: the resulting output `FreeGen Tree` is simply an abstract data structure. Without the according interpretation, it is neither a generator nor a parser. Still, the structure has a remarkable resemblence with both the definition to get a `Gen Tree` and a `Parser Tree`."
   ]
  },
  {
   "cell_type": "code",
   "execution_count": 91,
   "metadata": {},
   "outputs": [],
   "source": [
    ":reload\n",
    ":load ./Definitions/FreeGen.hs\n",
    "\n",
    "import Definitions.FreeGen"
   ]
  },
  {
   "cell_type": "code",
   "execution_count": 92,
   "metadata": {},
   "outputs": [],
   "source": [
    "freeGenTree :: Int -> FreeGen Tree\n",
    "freeGenTree 0 = Return Leaf\n",
    "freeGenTree h = do\n",
    "  c <- pick [(1, 'L', return 'L'), (3, 'N', return 'N')]\n",
    "  case c of\n",
    "    'L' -> return Leaf\n",
    "    'N' -> do\n",
    "      x <- freeGenInt\n",
    "      l <- freeGenTree (h-1)\n",
    "      r <- freeGenTree (h-1)\n",
    "      return (Node x l r)\n",
    "\n",
    "freeGenInt = pick [(1, intToDigit x, return x) | x<-[0..9]]\n",
    "\n",
    "freeGen = freeGenTree 4"
   ]
  },
  {
   "attachments": {},
   "cell_type": "markdown",
   "metadata": {},
   "source": [
    "## Interpretations for FreeGen\n",
    "\n",
    "Now follows the interesting part about the created `FreeGen Tree`: the different interpretations. The results should be\n",
    "- a Generator (`Gen Tree`)\n",
    "- a Parser (`Parser Tree`)"
   ]
  },
  {
   "cell_type": "code",
   "execution_count": 93,
   "metadata": {},
   "outputs": [
    {
     "data": {
      "text/plain": [
       "\n",
       "N: 3\n",
       "|- N: 9 -> L L\n",
       "`- N: 2\n",
       "   |- N: 8\n",
       "   |  |- N: 9 -> L L\n",
       "   |  `- N: 3 -> L L\n",
       "   `- N: 8\n",
       "      |- N: 3 -> L L\n",
       "      `- N: 0 -> L L"
      ]
     },
     "metadata": {},
     "output_type": "display_data"
    }
   ],
   "source": [
    "gen = interpretAsG freeGen\n",
    "Gen.generate gen"
   ]
  },
  {
   "cell_type": "code",
   "execution_count": 94,
   "metadata": {},
   "outputs": [
    {
     "data": {
      "text/plain": [
       "Right \n",
       "N: 2\n",
       "|- L\n",
       "`- N: 1\n",
       "   |- N: 6 -> L L\n",
       "   `- L"
      ]
     },
     "metadata": {},
     "output_type": "display_data"
    }
   ],
   "source": [
    "parser = interpretAsP freeGen\n",
    "parse parser \"\" \"N2LN1N6LLL\""
   ]
  },
  {
   "attachments": {},
   "cell_type": "markdown",
   "metadata": {},
   "source": [
    "From the two upper code segments it can be shown, that both the interpretation as a generetor and parser work. \n",
    "\n",
    "To show that a generator can now be indeed separated into a parser and a generator for random sequences, an additional interpretation needs to be used:\n",
    "- Randomness interpretation (`Gen String`)\n",
    "\n",
    "With the resulting randomness generator (that creates random Strings), the generator can then be factored into the parser and the distribution over choice sequences."
   ]
  },
  {
   "cell_type": "code",
   "execution_count": 95,
   "metadata": {},
   "outputs": [
    {
     "data": {
      "text/plain": [
       "Right \n",
       "N: 6\n",
       "|- N: 0\n",
       "|  |- L\n",
       "|  `- N: 8\n",
       "|     |- N: 1 -> L L\n",
       "|     `- N: 1 -> L L\n",
       "`- N: 2\n",
       "   |- N: 7\n",
       "   |  |- N: 6 -> L L\n",
       "   |  `- N: 4 -> L L\n",
       "   `- N: 5\n",
       "      |- N: 1 -> L L\n",
       "      `- N: 3 -> L L"
      ]
     },
     "metadata": {},
     "output_type": "display_data"
    }
   ],
   "source": [
    "random = interpretAsR freeGen\n",
    "\n",
    "Gen.generate (parse parser \"\" <$> random)"
   ]
  }
 ],
 "metadata": {
  "kernelspec": {
   "display_name": "Haskell",
   "language": "haskell",
   "name": "haskell"
  },
  "language_info": {
   "codemirror_mode": "ihaskell",
   "file_extension": ".hs",
   "mimetype": "text/x-haskell",
   "name": "haskell",
   "pygments_lexer": "Haskell",
   "version": "9.2.7"
  },
  "orig_nbformat": 4
 },
 "nbformat": 4,
 "nbformat_minor": 2
}
