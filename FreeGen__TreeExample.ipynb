{
 "cells": [
  {
   "attachments": {},
   "cell_type": "markdown",
   "metadata": {},
   "source": [
    "# Parsing Randomness\n",
    "This is an example showing the principles of \"Free Generators\", a data structure both interpretable as:\n",
    "- A Generator\n",
    "- A Parser\n",
    "\n",
    "First, like in the paper [TODO], the \"original\" Parser and Generator will be shown. Next, they will both be build using the introduced data structure `FreeGen`.\n",
    "\n",
    "The utilised example are Binary Boolean trees, first introduced here:\n",
    "\n",
    "## Binary Boolean trees\n",
    "The trees will have the following elements:\n",
    "- `N` stands for a node\n",
    "  - A Node has 2 children (other tree)\n",
    "  - and a Boolean value assigned (`0` or `1`)\n",
    "- `L` stands for leaf\n",
    "\n",
    "An example could look like this:\n",
    "```haskell\n",
    "N: 0 \n",
    "|- L\n",
    "`- N: 1\n",
    "   |- N: 0 -> L L\n",
    "   `- L\n",
    "```\n",
    "\n",
    "A **Generator** creates such a data structure at random. A **Parser** gets some String input (for the shown example: `N 0 L N 1 N 0 L L L`) and creates the according instance of the data structure.\n"
   ]
  },
  {
   "cell_type": "code",
   "execution_count": 8,
   "metadata": {},
   "outputs": [],
   "source": [
    ":load ./Definitions/Tree.hs\n",
    "import Definitions.Tree"
   ]
  },
  {
   "attachments": {},
   "cell_type": "markdown",
   "metadata": {},
   "source": [
    "## Implementation of original Generator and Parser\n",
    "To show the analogy of the structure in Generators and Parsers, this section will start with the original implementation of both for creating (either making or parsing) a Binary Boolean Tree.\n",
    "\n",
    "Both the utilised Generator and Parser are already existing implementations from other libraries."
   ]
  },
  {
   "cell_type": "code",
   "execution_count": 9,
   "metadata": {
    "slideshow": {
     "slide_type": "slide"
    }
   },
   "outputs": [
    {
     "data": {
      "text/plain": [
       "\n",
       "N: 1\n",
       "|- L\n",
       "`- N: 0\n",
       "   |- N: 0\n",
       "   |  |- L\n",
       "   |  `- N: 0 -> L L\n",
       "   `- L"
      ]
     },
     "metadata": {},
     "output_type": "display_data"
    }
   ],
   "source": [
    "import Test.QuickCheck (Gen)\n",
    "import qualified Test.QuickCheck as Gen\n",
    "\n",
    "generateTree :: Int -> Gen Tree\n",
    "generateTree 0 = return Leaf\n",
    "generateTree h = do\n",
    "  c <- Gen.frequency [(1, return \"L\"), (3, return \"N\")]\n",
    "  case c of\n",
    "    \"L\" -> return Leaf\n",
    "    \"N\" -> do\n",
    "      x <- generateBool\n",
    "      l <- generateTree (h-1)\n",
    "      r <- generateTree (h-1)\n",
    "      return (Node x l r)\n",
    "\n",
    "generateBool = Gen.frequency [(1, return 0), (1, return 1)]\n",
    "\n",
    "Gen.generate (generateTree 4)"
   ]
  },
  {
   "cell_type": "code",
   "execution_count": 10,
   "metadata": {},
   "outputs": [
    {
     "data": {
      "text/plain": [
       "Right \n",
       "N: 0\n",
       "|- L\n",
       "`- N: 1\n",
       "   |- N: 0 -> L L\n",
       "   `- L"
      ]
     },
     "metadata": {},
     "output_type": "display_data"
    }
   ],
   "source": [
    "import Text.Parsec.String (Parser)\n",
    "import Text.Parsec\n",
    "\n",
    "parseTree :: Int -> Parser Tree\n",
    "parseTree 0 = return Leaf\n",
    "parseTree h = do\n",
    "  c <- anyChar\n",
    "  case c of\n",
    "    'L' -> return Leaf\n",
    "    'N' -> do\n",
    "      x <- parseBool\n",
    "      l <- parseTree (h-1)\n",
    "      r <- parseTree (h-1)\n",
    "      return (Node x l r)\n",
    "    _ -> fail \"Wrong input\"\n",
    "\n",
    "parseBool = do\n",
    "  c <- anyChar\n",
    "  case c of \n",
    "    '0' -> return 0\n",
    "    '1' -> return 1\n",
    "    _ -> fail \"Wrong input\"\n",
    "\n",
    "parse (parseTree 5) \"\" \"N0LN1N0LLL\""
   ]
  }
 ],
 "metadata": {
  "kernelspec": {
   "display_name": "Haskell",
   "language": "haskell",
   "name": "haskell"
  },
  "language_info": {
   "codemirror_mode": "ihaskell",
   "file_extension": ".hs",
   "mimetype": "text/x-haskell",
   "name": "haskell",
   "pygments_lexer": "Haskell",
   "version": "9.2.7"
  },
  "orig_nbformat": 4
 },
 "nbformat": 4,
 "nbformat_minor": 2
}
