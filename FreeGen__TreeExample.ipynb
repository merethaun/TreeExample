{
 "cells": [
  {
   "attachments": {},
   "cell_type": "markdown",
   "metadata": {},
   "source": [
    "# Parsing Randomness\n",
    "This is an example showing the principles of \"Free Generators\", a data structure both interpretable as:\n",
    "- A Generator\n",
    "- A Parser\n",
    "\n",
    "First, like in the paper [TODO], the \"original\" Parser and Generator will be shown. Next, they will both be build using the introduced data structure `FreeGen`.\n",
    "\n",
    "The utilised example are Binary Boolean trees, first introduced here:\n",
    "\n",
    "## Binary Boolean trees\n",
    "The trees will have the following elements:\n",
    "- `N` stands for a node\n",
    "  - A Node has 2 children (other tree)\n",
    "  - and a Boolean value assigned (`0` or `1`)\n",
    "- `L` stands for leaf\n",
    "\n",
    "An example could look like this:\n",
    "```haskell\n",
    "     N: 0 \n",
    "   /     \\\n",
    "  L      N: 1\n",
    "       /     \\\n",
    "      N: 0    L\n",
    "    /     \\\n",
    "   L       L\n",
    "```\n",
    "\n",
    "A **Generator** creates such a data structure at random. A **Parser** gets some String input (for the shown example: `N 0 L N 1 N 0 L L L`) and creates the according instance of the data structure.\n"
   ]
  },
  {
   "attachments": {},
   "cell_type": "markdown",
   "metadata": {},
   "source": [
    "## Implementation of original Generator and Parser\n",
    "To show the analogy of the structure in Generators and Parsers, this section will start with the original implementation of both for creating (either making or parsing) a Binary Boolean Tree.\n",
    "\n",
    "Both the utilised Generator and Parser are already existing implementations from other libraries."
   ]
  },
  {
   "cell_type": "code",
   "execution_count": null,
   "metadata": {
    "slideshow": {
     "slide_type": "subslide"
    }
   },
   "outputs": [],
   "source": [
    "import Test.QuickCheck (Gen)\n",
    "import qualified Test.QuickCheck as Gen\n",
    "\n",
    "generateTree :: Int -> Gen Tree\n",
    "generateTree 0 = return Leaf\n",
    "generateTree h = do\n",
    "  c <- frequency [(1,False), (3,True)]\n",
    "  case c of\n",
    "    False -> return Leaf\n",
    "    True -> do\n",
    "      x <- genBool\n",
    "      l <- genTree (h-1)\n",
    "      r <- genTree (h-1)\n",
    "      return (Node l x r)"
   ]
  },
  {
   "cell_type": "code",
   "execution_count": null,
   "metadata": {
    "slideshow": {
     "slide_type": "subslide"
    }
   },
   "outputs": [],
   "source": []
  }
 ],
 "metadata": {
  "language_info": {
   "name": "python"
  },
  "orig_nbformat": 4
 },
 "nbformat": 4,
 "nbformat_minor": 2
}
