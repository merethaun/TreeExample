{
 "cells": [
  {
   "attachments": {},
   "cell_type": "markdown",
   "metadata": {},
   "source": [
    "# Parsing Randomness\n",
    "This is an example showing the principles of \"free generators\" for type `a`, a data structure interpretable as:\n",
    "- A generator for type `a`,\n",
    "- A parser taking a string and creating a type `a`, and \n",
    "- A generator creating an input string for the parser\n",
    "\n",
    "First, like in the paper [Parsing Randomness](https://dl.acm.org/doi/10.1145/3563291), the \"original\" parser and generator will be shown. Next, they will both be build using the introduced data structure `FreeGen`. Finally, the separation of a generator into a parser and a source of randomness is shown.\n",
    "\n",
    "The utilised example are trees, first introduced.\n",
    "\n",
    "## Tree Example\n",
    "The utilized trees will have the following elements:\n",
    "- `N` stands for a node\n",
    "  - A node has 2 children (other tree), and\n",
    "  - An assigned digit (`0..9`)\n",
    "- `L` stands for leaf\n",
    "\n",
    "An example could look like this:\n",
    "```haskell\n",
    "N: 2 \n",
    "|- L\n",
    "`- N: 1\n",
    "   |- N: 6 -> L L\n",
    "   `- L\n",
    "```\n",
    "\n",
    "The traditional generator and parser have the following tasks:\n",
    "- A **generator** creates such a data structure at random. \n",
    "- A **parser** gets some string input (for the shown example: `N 2 L N 1 N 6 L L L`) and creates the according instance of the data structure.\n"
   ]
  },
  {
   "cell_type": "code",
   "execution_count": 128,
   "metadata": {},
   "outputs": [],
   "source": [
    ":reload\n",
    ":load ./Definitions/Tree.hs\n",
    "\n",
    "import Definitions.Tree"
   ]
  },
  {
   "attachments": {},
   "cell_type": "markdown",
   "metadata": {},
   "source": [
    "## Implementation of original Generator and Parser\n",
    "To show the analogy of the structure in generators and parsers, this section will start with the original implementation of both for creating (either making or parsing) a tree.\n",
    "\n",
    "Both the utilised generator and parser are already existing implementations from other libraries."
   ]
  },
  {
   "cell_type": "code",
   "execution_count": 129,
   "metadata": {
    "slideshow": {
     "slide_type": "slide"
    }
   },
   "outputs": [
    {
     "data": {
      "text/plain": [
       "\n",
       "N: 3\n",
       "|- L\n",
       "`- N: 8\n",
       "   |- N: 5\n",
       "   |  |- N: 9 -> L L\n",
       "   |  `- N: 3 -> L L\n",
       "   `- N: 7\n",
       "      |- N: 0 -> L L\n",
       "      `- N: 9 -> L L"
      ]
     },
     "metadata": {},
     "output_type": "display_data"
    }
   ],
   "source": [
    "import Test.QuickCheck (Gen)\n",
    "import qualified Test.QuickCheck.Gen as Gen\n",
    "\n",
    "generateTree :: Int -> Gen Tree\n",
    "generateTree 0 = do\n",
    "  c <- Gen.frequency [(1, return 'L')]\n",
    "  case c of\n",
    "    'L' -> return Leaf\n",
    "generateTree h = do\n",
    "  c <- Gen.frequency [(1, return 'L'), (3, return 'N')]\n",
    "  case c of\n",
    "    'L' -> return Leaf\n",
    "    'N' -> do\n",
    "      x <- generateInt\n",
    "      l <- generateTree (h-1)\n",
    "      r <- generateTree (h-1)\n",
    "      return (Node x l r)\n",
    "\n",
    "generateInt = Gen.frequency [ (1, return x) | x<-[0..9] ]\n",
    "\n",
    "Gen.generate (generateTree 4)"
   ]
  },
  {
   "cell_type": "code",
   "execution_count": 130,
   "metadata": {},
   "outputs": [
    {
     "data": {
      "text/plain": [
       "Right \n",
       "N: 2\n",
       "|- L\n",
       "`- N: 1\n",
       "   |- N: 6 -> L L\n",
       "   `- L"
      ]
     },
     "metadata": {},
     "output_type": "display_data"
    }
   ],
   "source": [
    "import Text.Parsec.String (Parser)\n",
    "import Text.Parsec\n",
    "import Data.Char\n",
    "\n",
    "parseTree :: Int -> Parser Tree\n",
    "parseTree 0 = do\n",
    "  c <- oneOf \"L\"\n",
    "  case c of \n",
    "    'L' -> return Leaf\n",
    "parseTree h = do\n",
    "  c <- oneOf \"LN\"\n",
    "  case c of\n",
    "    'L' -> return Leaf\n",
    "    'N' -> do\n",
    "      x <- parseInt\n",
    "      l <- parseTree (h-1)\n",
    "      r <- parseTree (h-1)\n",
    "      return (Node x l r)\n",
    "\n",
    "parseInt = digitToInt <$> digit\n",
    "\n",
    "parse (parseTree 5) \"\" \"N2LN1N6LLL\""
   ]
  },
  {
   "attachments": {},
   "cell_type": "markdown",
   "metadata": {},
   "source": [
    "## Implementation of Free Generator\n",
    "As a first step, the general free generator for the tree exampale will be defined. \n",
    "\n",
    "Important to notice: the resulting output `FreeGen Tree` is simply an abstract data structure. Without the according interpretation, it is neither a generator nor a parser. Still, the structure has a remarkable resemblence with both the definition to get a `Gen Tree` and a `Parser Tree`."
   ]
  },
  {
   "cell_type": "code",
   "execution_count": 131,
   "metadata": {},
   "outputs": [],
   "source": [
    ":reload\n",
    ":load ./Definitions/FreeGen.hs\n",
    "\n",
    "import Definitions.FreeGen"
   ]
  },
  {
   "cell_type": "code",
   "execution_count": 132,
   "metadata": {},
   "outputs": [],
   "source": [
    "freeGenTree :: Int -> FreeGen Tree\n",
    "freeGenTree 0 = do -- Basically says: always return Leaf, BUT captures this in the distribution\n",
    "  c <- pick [(1, 'L', return 'L')]\n",
    "  case c of\n",
    "    'L' -> return Leaf\n",
    "freeGenTree h = do\n",
    "  c <- pick [(1, 'L', return 'L'), (3, 'N', return 'N')]\n",
    "  case c of\n",
    "    'L' -> return Leaf\n",
    "    'N' -> do\n",
    "      x <- freeGenInt\n",
    "      l <- freeGenTree (h-1)\n",
    "      r <- freeGenTree (h-1)\n",
    "      return (Node x l r)\n",
    "\n",
    "freeGenInt = pick [(1, intToDigit x, return x) | x<-[0..9]]\n",
    "\n",
    "freeGen = freeGenTree 4"
   ]
  },
  {
   "attachments": {},
   "cell_type": "markdown",
   "metadata": {},
   "source": [
    "## Interpretations for FreeGen\n",
    "\n",
    "Now follows the interesting part about the created `FreeGen Tree`: the different interpretations. The results should be\n",
    "- a Generator (`Gen Tree`)\n",
    "- a Parser (`Parser Tree`)"
   ]
  },
  {
   "cell_type": "code",
   "execution_count": 133,
   "metadata": {},
   "outputs": [
    {
     "data": {
      "text/plain": [
       "\n",
       "N: 8\n",
       "|- N: 1\n",
       "|  |- L\n",
       "|  `- N: 5\n",
       "|     |- N: 5 -> L L\n",
       "|     `- L\n",
       "`- N: 2\n",
       "   |- L\n",
       "   `- N: 7 -> L L"
      ]
     },
     "metadata": {},
     "output_type": "display_data"
    }
   ],
   "source": [
    "gen = interpretAsG freeGen\n",
    "Gen.generate gen"
   ]
  },
  {
   "cell_type": "code",
   "execution_count": 134,
   "metadata": {},
   "outputs": [
    {
     "data": {
      "text/plain": [
       "Right \n",
       "N: 2\n",
       "|- L\n",
       "`- N: 1\n",
       "   |- N: 6 -> L L\n",
       "   `- L"
      ]
     },
     "metadata": {},
     "output_type": "display_data"
    }
   ],
   "source": [
    "parser = interpretAsP freeGen\n",
    "parse parser \"\" \"N2LN1N6LLL\""
   ]
  },
  {
   "attachments": {},
   "cell_type": "markdown",
   "metadata": {},
   "source": [
    "From the two upper code segments it can be shown, that both the interpretation as a generetor and parser work. \n",
    "\n",
    "To show that a generator can now be indeed separated into a parser and a generator for random sequences, an additional interpretation needs to be used:\n",
    "- Randomness interpretation (`Gen String`)"
   ]
  },
  {
   "cell_type": "code",
   "execution_count": 135,
   "metadata": {},
   "outputs": [
    {
     "data": {
      "text/plain": [
       "\"N1N6N9N9LLN5LLLN8N0N5LLLN8N1LLN1LL\""
      ]
     },
     "metadata": {},
     "output_type": "display_data"
    }
   ],
   "source": [
    "random = interpretAsR freeGen\n",
    "\n",
    "Gen.generate random"
   ]
  },
  {
   "attachments": {},
   "cell_type": "markdown",
   "metadata": {},
   "source": [
    "\n",
    "With the resulting randomness generator (that creates random strings), the generator for type `Tree` can then be factored into the parser and the distribution over choice sequences."
   ]
  },
  {
   "cell_type": "code",
   "execution_count": 136,
   "metadata": {},
   "outputs": [
    {
     "data": {
      "text/plain": [
       "Right \n",
       "N: 9\n",
       "|- N: 6\n",
       "|  |- N: 5\n",
       "|  |  |- N: 7 -> L L\n",
       "|  |  `- N: 6 -> L L\n",
       "|  `- N: 8\n",
       "|     |- N: 9 -> L L\n",
       "|     `- N: 2 -> L L\n",
       "`- N: 0\n",
       "   |- N: 7\n",
       "   |  |- N: 2 -> L L\n",
       "   |  `- N: 1 -> L L\n",
       "   `- N: 3\n",
       "      |- N: 5 -> L L\n",
       "      `- N: 2 -> L L"
      ]
     },
     "metadata": {},
     "output_type": "display_data"
    }
   ],
   "source": [
    "Gen.generate (parse parser \"\" <$> random)"
   ]
  }
 ],
 "metadata": {
  "kernelspec": {
   "display_name": "Haskell",
   "language": "haskell",
   "name": "haskell"
  },
  "language_info": {
   "codemirror_mode": "ihaskell",
   "file_extension": ".hs",
   "mimetype": "text/x-haskell",
   "name": "haskell",
   "pygments_lexer": "Haskell",
   "version": "9.2.7"
  },
  "orig_nbformat": 4
 },
 "nbformat": 4,
 "nbformat_minor": 2
}
